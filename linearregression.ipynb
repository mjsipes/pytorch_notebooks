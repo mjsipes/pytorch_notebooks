{
  "cells": [
    {
      "cell_type": "markdown",
      "metadata": {
        "id": "view-in-github",
        "colab_type": "text"
      },
      "source": [
        "<a href=\"https://colab.research.google.com/github/mjsipes/pytorch_notebooks/blob/main/linearregression.ipynb\" target=\"_parent\"><img src=\"https://colab.research.google.com/assets/colab-badge.svg\" alt=\"Open In Colab\"/></a>"
      ]
    },
    {
      "cell_type": "code",
      "execution_count": 27,
      "metadata": {
        "colab": {
          "base_uri": "https://localhost:8080/",
          "height": 35
        },
        "id": "9I1lvp5djr_5",
        "outputId": "90dfadec-9b23-4330-eb27-647d7ea6cd14"
      },
      "outputs": [
        {
          "output_type": "execute_result",
          "data": {
            "text/plain": [
              "'2.3.1+cu121'"
            ],
            "application/vnd.google.colaboratory.intrinsic+json": {
              "type": "string"
            }
          },
          "metadata": {},
          "execution_count": 27
        }
      ],
      "source": [
        "# Import PyTorch and matplotlib\n",
        "import torch\n",
        "from torch import nn # nn contains all of PyTorch's building blocks for neural networks\n",
        "import matplotlib.pyplot as plt\n",
        "\n",
        "# Check PyTorch version\n",
        "torch.__version__"
      ]
    },
    {
      "cell_type": "code",
      "execution_count": 28,
      "metadata": {
        "id": "2Wb7mluA_g7e",
        "colab": {
          "base_uri": "https://localhost:8080/"
        },
        "outputId": "a3fb0cd1-35f6-42d3-feb9-25e1fdc9a464"
      },
      "outputs": [
        {
          "output_type": "stream",
          "name": "stdout",
          "text": [
            "hello world\n"
          ]
        }
      ],
      "source": [
        "print(\"hello world\")"
      ]
    },
    {
      "cell_type": "code",
      "execution_count": 29,
      "metadata": {
        "colab": {
          "base_uri": "https://localhost:8080/"
        },
        "id": "CRIsGgn8j6fD",
        "outputId": "b3a5e336-862d-4781-8930-5f7bb9486b43"
      },
      "outputs": [
        {
          "output_type": "stream",
          "name": "stdout",
          "text": [
            "Using device: cpu\n"
          ]
        }
      ],
      "source": [
        "device = \"cuda\" if torch.cuda.is_available() else \"cpu\"\n",
        "print(f\"Using device: {device}\")"
      ]
    },
    {
      "cell_type": "code",
      "execution_count": 30,
      "metadata": {
        "colab": {
          "base_uri": "https://localhost:8080/"
        },
        "id": "rI9fMQ7Lj6c9",
        "outputId": "155b7776-97ad-4e83-c465-2aef83e19308"
      },
      "outputs": [
        {
          "output_type": "execute_result",
          "data": {
            "text/plain": [
              "(tensor([[0.0000],\n",
              "         [0.0200],\n",
              "         [0.0400],\n",
              "         [0.0600],\n",
              "         [0.0800],\n",
              "         [0.1000],\n",
              "         [0.1200],\n",
              "         [0.1400],\n",
              "         [0.1600],\n",
              "         [0.1800]]),\n",
              " tensor([[2.0000],\n",
              "         [2.0600],\n",
              "         [2.1200],\n",
              "         [2.1800],\n",
              "         [2.2400],\n",
              "         [2.3000],\n",
              "         [2.3600],\n",
              "         [2.4200],\n",
              "         [2.4800],\n",
              "         [2.5400]]))"
            ]
          },
          "metadata": {},
          "execution_count": 30
        }
      ],
      "source": [
        "weight = 3\n",
        "bias = 2\n",
        "\n",
        "start = 0\n",
        "end = 1\n",
        "step = 0.02\n",
        "\n",
        "X = torch.arange(start, end, step).unsqueeze(dim=1)\n",
        "\n",
        "y = X*weight + bias\n",
        "X[:10], y[:10]"
      ]
    },
    {
      "cell_type": "code",
      "execution_count": 31,
      "metadata": {
        "colab": {
          "base_uri": "https://localhost:8080/"
        },
        "id": "CYGUBSrQj6a6",
        "outputId": "db6f2f76-ed41-4ff1-bf67-29dbc7dcc03c"
      },
      "outputs": [
        {
          "output_type": "execute_result",
          "data": {
            "text/plain": [
              "(40, 40, 10, 10)"
            ]
          },
          "metadata": {},
          "execution_count": 31
        }
      ],
      "source": [
        "from sklearn.utils import shuffle\n",
        "train_split = int(0.8 * len(X))\n",
        "# X, y = shuffle(X, y, random_state=42)\n",
        "X_train, y_train = X[:train_split], y[:train_split]\n",
        "X_test, y_test = X[train_split:], y[train_split:]\n",
        "\n",
        "len(X_train), len(y_train), len(X_test), len(y_test)"
      ]
    },
    {
      "cell_type": "code",
      "execution_count": 32,
      "metadata": {
        "id": "uxOs6Eodk_ZO"
      },
      "outputs": [],
      "source": [
        "def plot_predictions(train_data=X_train,\n",
        "                     train_labels=y_train,\n",
        "                     test_data=X_test,\n",
        "                     test_labels=y_test,\n",
        "                     predictions=None):\n",
        "\n",
        "  plt.figure(figsize=(10, 7))\n",
        "\n",
        "  plt.scatter(train_data, train_labels, c=\"b\", s=4, label=\"Training data\")\n",
        "  plt.scatter(test_data, test_labels, c=\"g\", s=4, label=\"Testing data\")\n",
        "\n",
        "  if predictions is not None:\n",
        "    plt.scatter(test_data, predictions, c=\"r\", s=4, label=\"Predictions\")\n",
        "\n",
        "  plt.legend(prop={\"size\": 14});"
      ]
    },
    {
      "cell_type": "code",
      "execution_count": 33,
      "metadata": {
        "colab": {
          "base_uri": "https://localhost:8080/",
          "height": 599
        },
        "id": "K1M7KSpAj6Yy",
        "outputId": "c4da1baf-9d50-4c26-fd16-b1344b1e0a7a"
      },
      "outputs": [
        {
          "output_type": "display_data",
          "data": {
            "text/plain": [
              "<Figure size 1000x700 with 1 Axes>"
            ],
            "image/png": "[encoded data removed]"
          },
          "metadata": {}
        }
      ],
      "source": [
        "plot_predictions(X_train, y_train, X_test, y_test)\n"
      ]
    },
    {
      "cell_type": "code",
      "execution_count": 34,
      "metadata": {
        "colab": {
          "base_uri": "https://localhost:8080/"
        },
        "id": "ktMbBfCGj6Ws",
        "outputId": "1e32ff8c-3e8f-4fcb-9b86-f67a289adc65"
      },
      "outputs": [
        {
          "output_type": "execute_result",
          "data": {
            "text/plain": [
              "(LinearRegressionModel0(),\n",
              " OrderedDict([('weight', tensor([10.])), ('bias', tensor([10.]))]))"
            ]
          },
          "metadata": {},
          "execution_count": 34
        }
      ],
      "source": [
        "class LinearRegressionModel0(nn.Module):\n",
        "    def __init__(self):\n",
        "        super().__init__()\n",
        "        self.weight = nn.Parameter(torch.randn(1,dtype=torch.float),requires_grad=True)\n",
        "        self.bias = nn.Parameter(torch.randn(1,dtype=torch.float),requires_grad=True)\n",
        "\n",
        "    def forward(self, x: torch.Tensor) -> torch.Tensor:\n",
        "        return self.weight * x + self.bias\n",
        "\n",
        "\n",
        "torch.manual_seed(42)\n",
        "model_0 = LinearRegressionModel0()\n",
        "\n",
        "with torch.no_grad():\n",
        "  model_0.weight[0] = 10\n",
        "  model_0.bias[0] = 10\n",
        "\n",
        "\n",
        "model_0, model_0.state_dict()"
      ]
    },
    {
      "cell_type": "code",
      "execution_count": 35,
      "metadata": {
        "colab": {
          "base_uri": "https://localhost:8080/"
        },
        "id": "3Gfg_Uf4XBVr",
        "outputId": "4d153060-1661-4e6c-839c-7e08594ca304"
      },
      "outputs": [
        {
          "output_type": "execute_result",
          "data": {
            "text/plain": [
              "(LinearRegressionModel1(\n",
              "   (linear_layer): Linear(in_features=1, out_features=1, bias=True)\n",
              " ),\n",
              " OrderedDict([('linear_layer.weight', tensor([[10.]])),\n",
              "              ('linear_layer.bias', tensor([10.]))]))"
            ]
          },
          "metadata": {},
          "execution_count": 35
        }
      ],
      "source": [
        "class LinearRegressionModel1(nn.Module):\n",
        "    def __init__(self):\n",
        "        super().__init__()\n",
        "        self.linear_layer = nn.Linear(in_features=1,out_features=1)\n",
        "\n",
        "    def forward(self, x: torch.Tensor) -> torch.Tensor:\n",
        "        return self.linear_layer(x)\n",
        "\n",
        "\n",
        "torch.manual_seed(42)\n",
        "model_1 = LinearRegressionModel1()\n",
        "\n",
        "with torch.no_grad():\n",
        "    model_1.linear_layer.weight[0] = 10\n",
        "    model_1.linear_layer.bias[0] = 10\n",
        "\n",
        "model_1, model_1.state_dict()\n",
        "\n"
      ]
    },
    {
      "cell_type": "code",
      "execution_count": 36,
      "metadata": {
        "colab": {
          "base_uri": "https://localhost:8080/"
        },
        "id": "Jc9A-QNCkNKF",
        "outputId": "b6c9e027-ccc9-4ee4-8775-5ba5a4661dfd"
      },
      "outputs": [
        {
          "output_type": "stream",
          "name": "stdout",
          "text": [
            "linear_layer.weight - Param: tensor([[10.]])\n",
            "linear_layer.bias - Param: tensor([10.])\n",
            "linear_layer.weight - Gradient: tensor([[0.3900]])\n",
            "linear_layer.bias - Gradient: tensor([1.])\n",
            "Epoch: 0 | Train Loss: 10.7300 | Test Loss: 14.0953\n",
            "------------------------------------------------------------\n",
            "linear_layer.weight - Param: tensor([[9.2200]])\n",
            "linear_layer.bias - Param: tensor([8.0000])\n",
            "linear_layer.weight - Gradient: tensor([[0.3900]])\n",
            "linear_layer.bias - Gradient: tensor([1.])\n",
            "Epoch: 20 | Train Loss: 8.4258 | Test Loss: 11.4011\n",
            "------------------------------------------------------------\n",
            "linear_layer.weight - Param: tensor([[8.4400]])\n",
            "linear_layer.bias - Param: tensor([6.0000])\n",
            "linear_layer.weight - Gradient: tensor([[0.3900]])\n",
            "linear_layer.bias - Gradient: tensor([1.])\n",
            "Epoch: 40 | Train Loss: 6.1216 | Test Loss: 8.7069\n",
            "------------------------------------------------------------\n",
            "linear_layer.weight - Param: tensor([[7.6600]])\n",
            "linear_layer.bias - Param: tensor([4.0000])\n",
            "linear_layer.weight - Gradient: tensor([[0.3900]])\n",
            "linear_layer.bias - Gradient: tensor([1.])\n",
            "Epoch: 60 | Train Loss: 3.8174 | Test Loss: 6.0127\n",
            "------------------------------------------------------------\n",
            "linear_layer.weight - Param: tensor([[6.8800]])\n",
            "linear_layer.bias - Param: tensor([2.0000])\n",
            "linear_layer.weight - Gradient: tensor([[0.3900]])\n",
            "linear_layer.bias - Gradient: tensor([0.9500])\n",
            "Epoch: 80 | Train Loss: 1.5132 | Test Loss: 3.3235\n",
            "------------------------------------------------------------\n",
            "linear_layer.weight - Param: tensor([[6.2062]])\n",
            "linear_layer.bias - Param: tensor([0.9650])\n",
            "linear_layer.weight - Gradient: tensor([[0.2540]])\n",
            "linear_layer.bias - Gradient: tensor([0.1500])\n",
            "Epoch: 100 | Train Loss: 0.6591 | Test Loss: 1.7809\n",
            "------------------------------------------------------------\n",
            "linear_layer.weight - Param: tensor([[5.7753]])\n",
            "linear_layer.bias - Param: tensor([0.8800])\n",
            "linear_layer.weight - Gradient: tensor([[0.1800]])\n",
            "linear_layer.bias - Gradient: tensor([-0.0500])\n",
            "Epoch: 120 | Train Loss: 0.5556 | Test Loss: 1.3390\n",
            "------------------------------------------------------------\n",
            "linear_layer.weight - Param: tensor([[5.4174]])\n",
            "linear_layer.bias - Param: tensor([0.9850])\n",
            "linear_layer.weight - Gradient: tensor([[0.1800]])\n",
            "linear_layer.bias - Gradient: tensor([-0.0500])\n",
            "Epoch: 140 | Train Loss: 0.4859 | Test Loss: 1.1255\n",
            "------------------------------------------------------------\n",
            "linear_layer.weight - Param: tensor([[5.0763]])\n",
            "linear_layer.bias - Param: tensor([1.1300])\n",
            "linear_layer.weight - Gradient: tensor([[0.1800]])\n",
            "linear_layer.bias - Gradient: tensor([-0.0500])\n",
            "Epoch: 160 | Train Loss: 0.4172 | Test Loss: 0.9669\n",
            "------------------------------------------------------------\n",
            "linear_layer.weight - Param: tensor([[4.7331]])\n",
            "linear_layer.bias - Param: tensor([1.2700])\n",
            "linear_layer.weight - Gradient: tensor([[0.1590]])\n",
            "linear_layer.bias - Gradient: tensor([-0.1000])\n",
            "Epoch: 180 | Train Loss: 0.3486 | Test Loss: 0.8083\n",
            "------------------------------------------------------------\n"
          ]
        }
      ],
      "source": [
        "import torch\n",
        "torch.manual_seed(42)\n",
        "\n",
        "model = model_1\n",
        "epochs = 200\n",
        "debug = True\n",
        "PRINT10 = epochs/10\n",
        "\n",
        "model.to(device)\n",
        "loss_fn = nn.L1Loss()\n",
        "optimizer = torch.optim.SGD(params=model.parameters(), lr=0.1)\n",
        "\n",
        "X_train = X_train.to(device)\n",
        "X_test = X_test.to(device)\n",
        "y_train = y_train.to(device)\n",
        "y_test = y_test.to(device)\n",
        "\n",
        "for epoch in range(epochs):\n",
        "    model.train()\n",
        "    y_pred = model(X_train)\n",
        "    loss = loss_fn(y_pred, y_train)\n",
        "    optimizer.zero_grad()\n",
        "    loss.backward()\n",
        "\n",
        "    if epoch % PRINT10 == 0:\n",
        "        if debug:\n",
        "            for name, param in model.named_parameters():\n",
        "                print(f'{name} - Param: {param.data}')\n",
        "            for name, param in model.named_parameters():\n",
        "                print(f'{name} - Gradient: {param.grad}')\n",
        "\n",
        "    optimizer.step()\n",
        "\n",
        "    model.eval()\n",
        "    with torch.inference_mode():\n",
        "        test_pred = model(X_test)\n",
        "        test_loss = loss_fn(test_pred, y_test)\n",
        "\n",
        "    if epoch % PRINT10 == 0:\n",
        "        if debug:\n",
        "            print(f'Epoch: {epoch} | Train Loss: {loss.item():.4f} | Test Loss: {test_loss.item():.4f}')\n",
        "            print('-' * 60)\n"
      ]
    },
    {
      "cell_type": "code",
      "execution_count": 36,
      "metadata": {
        "id": "bP5R4cnwK1iG"
      },
      "outputs": [],
      "source": []
    },
    {
      "cell_type": "code",
      "execution_count": 37,
      "metadata": {
        "colab": {
          "base_uri": "https://localhost:8080/"
        },
        "id": "kp5YV_U6kM-5",
        "outputId": "8e69f90b-83b9-4454-f838-fa56a33491a6"
      },
      "outputs": [
        {
          "output_type": "stream",
          "name": "stdout",
          "text": [
            "The model learned the following values for weights and bias:\n",
            "OrderedDict([('linear_layer.weight', tensor([[4.3920]])),\n",
            "             ('linear_layer.bias', tensor([1.4150]))])\n"
          ]
        }
      ],
      "source": [
        "from pprint import pprint\n",
        "print(\"The model learned the following values for weights and bias:\")\n",
        "pprint(model_1.state_dict())\n",
        "\n",
        "# for name, param in model_1.named_parameters():\n",
        "#     print(f'{name} - Gradient: {param.data.norm():.4f}')\n",
        "#     print(f'{name} - Gradient: {param.data}')"
      ]
    },
    {
      "cell_type": "code",
      "execution_count": 38,
      "metadata": {
        "colab": {
          "base_uri": "https://localhost:8080/"
        },
        "id": "1TZ-vkYEkM6O",
        "outputId": "fdf0740a-c5ae-462a-e968-da70b7b206d9"
      },
      "outputs": [
        {
          "output_type": "execute_result",
          "data": {
            "text/plain": [
              "tensor([[4.9286],\n",
              "        [5.0164],\n",
              "        [5.1043],\n",
              "        [5.1921],\n",
              "        [5.2800],\n",
              "        [5.3678],\n",
              "        [5.4556],\n",
              "        [5.5435],\n",
              "        [5.6313],\n",
              "        [5.7192]])"
            ]
          },
          "metadata": {},
          "execution_count": 38
        }
      ],
      "source": [
        "model.eval()\n",
        "with torch.inference_mode():\n",
        "    y_preds = model(X_test)\n",
        "y_preds"
      ]
    },
    {
      "cell_type": "code",
      "execution_count": 39,
      "metadata": {
        "colab": {
          "base_uri": "https://localhost:8080/",
          "height": 599
        },
        "id": "9T7lx_zHkU92",
        "outputId": "8c8242b0-582e-498a-d501-0b460ff48fb6"
      },
      "outputs": [
        {
          "output_type": "display_data",
          "data": {
            "text/plain": [
              "<Figure size 1000x700 with 1 Axes>"
            ],
            "image/png": "[encoded data removed]"
          },
          "metadata": {}
        }
      ],
      "source": [
        "plot_predictions(predictions=y_preds.cpu())\n"
      ]
    }
  ],
  "metadata": {
    "colab": {
      "provenance": [],
      "include_colab_link": true
    },
    "kernelspec": {
      "display_name": "Python 3",
      "name": "python3"
    },
    "language_info": {
      "codemirror_mode": {
        "name": "ipython",
        "version": 3
      },
      "file_extension": ".py",
      "mimetype": "text/x-python",
      "name": "python",
      "nbconvert_exporter": "python",
      "pygments_lexer": "ipython3",
      "version": "3.12.4"
    }
  },
  "nbformat": 4,
  "nbformat_minor": 0
}