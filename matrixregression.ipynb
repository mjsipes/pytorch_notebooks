{
  "nbformat": 4,
  "nbformat_minor": 0,
  "metadata": {
    "colab": {
      "provenance": [],
      "authorship_tag": "ABX9TyO+29uwQmbqxKkhNQ19lW7P",
      "include_colab_link": true
    },
    "kernelspec": {
      "name": "python3",
      "display_name": "Python 3"
    },
    "language_info": {
      "name": "python"
    }
  },
  "cells": [
    {
      "cell_type": "markdown",
      "metadata": {
        "id": "view-in-github",
        "colab_type": "text"
      },
      "source": [
        "<a href=\"https://colab.research.google.com/github/mjsipes/pytorch_notebooks/blob/main/matrixregression.ipynb\" target=\"_parent\"><img src=\"https://colab.research.google.com/assets/colab-badge.svg\" alt=\"Open In Colab\"/></a>"
      ]
    },
    {
      "cell_type": "code",
      "execution_count": 1,
      "metadata": {
        "colab": {
          "base_uri": "https://localhost:8080/",
          "height": 35
        },
        "id": "9I1lvp5djr_5",
        "outputId": "69190188-da82-48b6-c5fe-4ebcb7958dc6"
      },
      "outputs": [
        {
          "output_type": "execute_result",
          "data": {
            "text/plain": [
              "'2.3.1+cu121'"
            ],
            "application/vnd.google.colaboratory.intrinsic+json": {
              "type": "string"
            }
          },
          "metadata": {},
          "execution_count": 1
        }
      ],
      "source": [
        "# Import PyTorch and matplotlib\n",
        "import torch\n",
        "from torch import nn # nn contains all of PyTorch's building blocks for neural networks\n",
        "import matplotlib.pyplot as plt\n",
        "\n",
        "# Check PyTorch version\n",
        "torch.__version__"
      ]
    },
    {
      "cell_type": "code",
      "source": [
        "device = \"cuda\" if torch.cuda.is_available() else \"cpu\"\n",
        "print(f\"Using device: {device}\")"
      ],
      "metadata": {
        "colab": {
          "base_uri": "https://localhost:8080/"
        },
        "id": "CRIsGgn8j6fD",
        "outputId": "28ea75c1-2f29-442e-c699-d5b5b4e6bdef"
      },
      "execution_count": 2,
      "outputs": [
        {
          "output_type": "stream",
          "name": "stdout",
          "text": [
            "Using device: cpu\n"
          ]
        }
      ]
    },
    {
      "cell_type": "code",
      "source": [
        "torch.manual_seed(42)\n",
        "\n",
        "weight = 2\n",
        "bias = 2\n",
        "\n",
        "start = 0\n",
        "end = 1\n",
        "step = 0.02\n",
        "\n",
        "x_1_1 = torch.arange(start, end, step).unsqueeze(dim=1)\n",
        "X = torch.arange(start, end, step)\n",
        "\n",
        "\n",
        "n_samples = X.size()[0]\n",
        "\n",
        "X = torch.zeros((n_samples, 2, 2))\n",
        "y = torch.zeros(n_samples)\n",
        "\n",
        "for i in range(n_samples):\n",
        "    X[i] = torch.rand((2, 2))\n",
        "    X[i][0][0] = x_1_1[i]\n",
        "    y[i] = X[i][0][0]*weight + bias\n",
        "\n",
        "X = X.unsqueeze(dim=-1)\n",
        "y = y.unsqueeze(dim=1)\n",
        "\n",
        "X.dtype, y.dtype, X.shape, y.shape, X.ndim, X[:2],y[:2]\n"
      ],
      "metadata": {
        "colab": {
          "base_uri": "https://localhost:8080/"
        },
        "id": "rI9fMQ7Lj6c9",
        "outputId": "6070884a-18ef-462f-cb24-1ac1cd2b3bf5"
      },
      "execution_count": 3,
      "outputs": [
        {
          "output_type": "execute_result",
          "data": {
            "text/plain": [
              "(torch.float32,\n",
              " torch.float32,\n",
              " torch.Size([50, 2, 2, 1]),\n",
              " torch.Size([50, 1]),\n",
              " 4,\n",
              " tensor([[[[0.0000],\n",
              "           [0.9150]],\n",
              " \n",
              "          [[0.3829],\n",
              "           [0.9593]]],\n",
              " \n",
              " \n",
              "         [[[0.0200],\n",
              "           [0.6009]],\n",
              " \n",
              "          [[0.2566],\n",
              "           [0.7936]]]]),\n",
              " tensor([[2.0000],\n",
              "         [2.0400]]))"
            ]
          },
          "metadata": {},
          "execution_count": 3
        }
      ]
    },
    {
      "cell_type": "code",
      "source": [
        "train_split = int(0.8 * len(X))\n",
        "# X, y = shuffle(X, y, random_state=42)\n",
        "X_train, y_train = X[:train_split], y[:train_split]\n",
        "X_test, y_test = X[train_split:], y[train_split:]\n",
        "\n",
        "len(X_train), len(y_train), len(X_test), len(y_test)\n",
        "X_train.shape, y_train.shape, X_test.shape, y_test.shape"
      ],
      "metadata": {
        "colab": {
          "base_uri": "https://localhost:8080/"
        },
        "id": "CYGUBSrQj6a6",
        "outputId": "9972cdcb-41fd-4d17-e531-32df975a1303"
      },
      "execution_count": 4,
      "outputs": [
        {
          "output_type": "execute_result",
          "data": {
            "text/plain": [
              "(torch.Size([40, 2, 2, 1]),\n",
              " torch.Size([40, 1]),\n",
              " torch.Size([10, 2, 2, 1]),\n",
              " torch.Size([10, 1]))"
            ]
          },
          "metadata": {},
          "execution_count": 4
        }
      ]
    },
    {
      "cell_type": "code",
      "source": [
        "def plot_predictions(train_data=X_train,\n",
        "                     train_labels=y_train,\n",
        "                     test_data=X_test,\n",
        "                     test_labels=y_test,\n",
        "                     predictions=None):\n",
        "\n",
        "  plt.figure(figsize=(10, 7))\n",
        "\n",
        "  train_data_00 = train_data[:, 0, 0]\n",
        "  train_data_01 = train_data[:, 0, 1]\n",
        "  train_data_10 = train_data[:, 1, 0]\n",
        "  train_data_11 = train_data[:, 1, 1]\n",
        "  plt.scatter(train_data_00, train_labels, c=\"b\", s=4, label=\"Training data\")\n",
        "  plt.scatter(train_data_01, train_labels, c='0.8', s=4)\n",
        "  plt.scatter(train_data_10, train_labels, c='0.8', s=4)\n",
        "  plt.scatter(train_data_11, train_labels, c='0.8', s=4, label=\"Training data\")\n",
        "\n",
        "  test_data_00 = test_data[:, 0, 0]\n",
        "  test_data_01 = test_data[:, 0, 1]\n",
        "  test_data_10 = test_data[:, 1, 0]\n",
        "  test_data_11 = test_data[:, 1, 1]\n",
        "  plt.scatter(test_data_00, test_labels, c=\"g\", s=4, label=\"Testing data\")\n",
        "  plt.scatter(test_data_01, test_labels, c='0.8', s=4)\n",
        "  plt.scatter(test_data_10, test_labels, c='0.8', s=4)\n",
        "  plt.scatter(test_data_11, test_labels, c='0.8', s=4, label=\"Testing data\")\n",
        "\n",
        "  if predictions is not None:\n",
        "    train_data_00 = train_data[:, 0, 0].squeeze(-1)\n",
        "    test_data_00 = test_data[:, 0, 0].squeeze(-1)\n",
        "    combined_data_00 = torch.cat((train_data_00, test_data_00), dim=0)\n",
        "    plt.scatter(combined_data_00, predictions, c=\"r\", s=4, label=\"Predictions\")\n",
        "\n",
        "  plt.legend(prop={\"size\": 14});"
      ],
      "metadata": {
        "id": "YOiF1JT_jkPN"
      },
      "execution_count": 5,
      "outputs": []
    },
    {
      "cell_type": "code",
      "source": [
        "plot_predictions(X_train, y_train, X_test, y_test)"
      ],
      "metadata": {
        "colab": {
          "base_uri": "https://localhost:8080/",
          "height": 599
        },
        "id": "hQJ722mUk02U",
        "outputId": "87311acf-e452-4bdf-e6d7-8fb915d089a2"
      },
      "execution_count": 6,
      "outputs": [
        {
          "output_type": "display_data",
          "data": {
            "text/plain": [
              "<Figure size 1000x700 with 1 Axes>"
            ],
            "image/png": "[encoded data removed]"
          },
          "metadata": {}
        }
      ]
    },
    {
      "cell_type": "code",
      "source": [
        "class MatrixSolver0(nn.Module):\n",
        "    def __init__(self):\n",
        "        super().__init__()\n",
        "        self.weight0 = nn.Parameter(torch.randn(1,dtype=torch.float),requires_grad=True)\n",
        "        self.weight1 = nn.Parameter(torch.randn(1,dtype=torch.float),requires_grad=True)\n",
        "        self.weight2 = nn.Parameter(torch.randn(1,dtype=torch.float),requires_grad=True)\n",
        "        self.weight3 = nn.Parameter(torch.randn(1,dtype=torch.float),requires_grad=True)\n",
        "        self.bias = nn.Parameter(torch.randn(1,dtype=torch.float),requires_grad=True)\n",
        "\n",
        "    def forward(self, x: torch.Tensor) -> torch.Tensor:\n",
        "        return self.weight0 * x[:, 0, 0] + self.weight1 * x[:, 0, 1] + self.weight2 * x[:, 1, 0] + self.weight3 * x[:, 1, 1] + self.bias\n",
        "\n",
        "\n",
        "torch.manual_seed(42)\n",
        "model_0 = MatrixSolver0()\n",
        "\n",
        "with torch.no_grad():\n",
        "  model_0.weight0[0] = 10\n",
        "  model_0.weight1[0] = 0\n",
        "  model_0.weight2[0] = 0\n",
        "  model_0.weight3[0] = 0\n",
        "  model_0.bias[0] = 10\n",
        "\n",
        "\n",
        "model_0, model_0.state_dict()"
      ],
      "metadata": {
        "colab": {
          "base_uri": "https://localhost:8080/"
        },
        "id": "IM2a0miUJXpN",
        "outputId": "a2c75af9-67ee-443e-8d7a-e42917a4189e"
      },
      "execution_count": 7,
      "outputs": [
        {
          "output_type": "execute_result",
          "data": {
            "text/plain": [
              "(MatrixSolver0(),\n",
              " OrderedDict([('weight0', tensor([10.])),\n",
              "              ('weight1', tensor([0.])),\n",
              "              ('weight2', tensor([0.])),\n",
              "              ('weight3', tensor([0.])),\n",
              "              ('bias', tensor([10.]))]))"
            ]
          },
          "metadata": {},
          "execution_count": 7
        }
      ]
    },
    {
      "cell_type": "code",
      "source": [
        "import torch\n",
        "import torch.nn as nn\n",
        "\n",
        "class MatrixSolver(nn.Module):\n",
        "    def __init__(self):\n",
        "        super(MatrixSolver, self).__init__()\n",
        "        self.flatten = nn.Flatten()\n",
        "        self.layer1 = nn.Linear(in_features=4, out_features=1)\n",
        "\n",
        "    def forward(self, x):\n",
        "        x = self.flatten(x)\n",
        "        x = self.layer1(x)\n",
        "        return x\n",
        "\n",
        "torch.manual_seed(42)\n",
        "model_1 = MatrixSolver()\n",
        "\n",
        "with torch.no_grad():\n",
        "    model_1.layer1.weight[:,:] = 0\n",
        "    model_1.layer1.weight[:,0] = 10\n",
        "    model_1.layer1.bias[0] = 10\n",
        "\n",
        "model_1, model_1.state_dict()\n"
      ],
      "metadata": {
        "id": "grIGDw9Nr4Sl",
        "colab": {
          "base_uri": "https://localhost:8080/"
        },
        "outputId": "8f31b39f-9986-475d-adb1-152529a27fa6"
      },
      "execution_count": 8,
      "outputs": [
        {
          "output_type": "execute_result",
          "data": {
            "text/plain": [
              "(MatrixSolver(\n",
              "   (flatten): Flatten(start_dim=1, end_dim=-1)\n",
              "   (layer1): Linear(in_features=4, out_features=1, bias=True)\n",
              " ),\n",
              " OrderedDict([('layer1.weight', tensor([[10.,  0.,  0.,  0.]])),\n",
              "              ('layer1.bias', tensor([10.]))]))"
            ]
          },
          "metadata": {},
          "execution_count": 8
        }
      ]
    },
    {
      "cell_type": "code",
      "source": [
        "import torch\n",
        "torch.manual_seed(42)\n",
        "\n",
        "model = model_1\n",
        "epochs = 100\n",
        "debug = True\n",
        "PRINT10 = epochs/10\n",
        "\n",
        "model.to(device)\n",
        "loss_fn = nn.L1Loss()\n",
        "optimizer = torch.optim.SGD(params=model.parameters(), lr=0.1)\n",
        "\n",
        "X_train = X_train.to(device)\n",
        "X_test = X_test.to(device)\n",
        "y_train = y_train.to(device)\n",
        "y_test = y_test.to(device)\n",
        "\n",
        "for epoch in range(epochs):\n",
        "    model.train()\n",
        "    y_pred = model(X_train)\n",
        "    loss = loss_fn(y_pred, y_train)\n",
        "    optimizer.zero_grad()\n",
        "    loss.backward()\n",
        "\n",
        "    if epoch % PRINT10 == 0:\n",
        "        if debug:\n",
        "            for name, param in model.named_parameters():\n",
        "                print(f'{name} - Param: {param.data}')\n",
        "            for name, param in model.named_parameters():\n",
        "                print(f'{name} - Gradient: {param.grad}')\n",
        "\n",
        "    optimizer.step()\n",
        "\n",
        "    model.eval()\n",
        "    with torch.inference_mode():\n",
        "        test_pred = model(X_test)\n",
        "        test_loss = loss_fn(test_pred, y_test)\n",
        "\n",
        "    if epoch % PRINT10 == 0:\n",
        "        if debug:\n",
        "            print(f'Epoch: {epoch} | Train Loss: {loss.item():.4f} | Test Loss: {test_loss.item():.4f}')\n",
        "            print('-' * 60)\n",
        "\n"
      ],
      "metadata": {
        "colab": {
          "base_uri": "https://localhost:8080/"
        },
        "id": "Jc9A-QNCkNKF",
        "outputId": "4638fa22-3773-491e-de22-1dc4d9a83369"
      },
      "execution_count": 9,
      "outputs": [
        {
          "output_type": "stream",
          "name": "stdout",
          "text": [
            "layer1.weight - Param: tensor([[10.,  0.,  0.,  0.]])\n",
            "layer1.bias - Param: tensor([10.])\n",
            "layer1.weight - Gradient: tensor([[0.3900, 0.3894, 0.5627, 0.4101]])\n",
            "layer1.bias - Gradient: tensor([1.])\n",
            "Epoch: 0 | Train Loss: 11.1200 | Test Loss: 14.9188\n",
            "------------------------------------------------------------\n",
            "layer1.weight - Param: tensor([[ 9.6100, -0.3894, -0.5627, -0.4101]])\n",
            "layer1.bias - Param: tensor([9.0000])\n",
            "layer1.weight - Gradient: tensor([[0.3900, 0.3894, 0.5627, 0.4101]])\n",
            "layer1.bias - Gradient: tensor([1.])\n",
            "Epoch: 10 | Train Loss: 9.3314 | Test Loss: 12.9068\n",
            "------------------------------------------------------------\n",
            "layer1.weight - Param: tensor([[ 9.2200, -0.7789, -1.1254, -0.8203]])\n",
            "layer1.bias - Param: tensor([8.0000])\n",
            "layer1.weight - Gradient: tensor([[0.3900, 0.3894, 0.5627, 0.4101]])\n",
            "layer1.bias - Gradient: tensor([1.])\n",
            "Epoch: 20 | Train Loss: 7.5428 | Test Loss: 10.8949\n",
            "------------------------------------------------------------\n",
            "layer1.weight - Param: tensor([[ 8.8300, -1.1683, -1.6881, -1.2304]])\n",
            "layer1.bias - Param: tensor([7.0000])\n",
            "layer1.weight - Gradient: tensor([[0.3900, 0.3894, 0.5627, 0.4101]])\n",
            "layer1.bias - Gradient: tensor([1.])\n",
            "Epoch: 30 | Train Loss: 5.7542 | Test Loss: 8.8829\n",
            "------------------------------------------------------------\n",
            "layer1.weight - Param: tensor([[ 8.4400, -1.5578, -2.2508, -1.6405]])\n",
            "layer1.bias - Param: tensor([6.0000])\n",
            "layer1.weight - Gradient: tensor([[0.3900, 0.3894, 0.5627, 0.4101]])\n",
            "layer1.bias - Gradient: tensor([1.])\n",
            "Epoch: 40 | Train Loss: 3.9656 | Test Loss: 6.8710\n",
            "------------------------------------------------------------\n",
            "layer1.weight - Param: tensor([[ 8.0541, -1.8855, -2.7585, -1.9769]])\n",
            "layer1.bias - Param: tensor([5.0950])\n",
            "layer1.weight - Gradient: tensor([[0.3610, 0.2149, 0.3792, 0.1887]])\n",
            "layer1.bias - Gradient: tensor([0.7000])\n",
            "Epoch: 50 | Train Loss: 2.5279 | Test Loss: 5.1101\n",
            "------------------------------------------------------------\n",
            "layer1.weight - Param: tensor([[ 7.7310, -1.9928, -3.0409, -2.0384]])\n",
            "layer1.bias - Param: tensor([4.5800])\n",
            "layer1.weight - Gradient: tensor([[ 0.2880,  0.0305,  0.1856, -0.0504]])\n",
            "layer1.bias - Gradient: tensor([0.3500])\n",
            "Epoch: 60 | Train Loss: 2.0313 | Test Loss: 4.1527\n",
            "------------------------------------------------------------\n",
            "layer1.weight - Param: tensor([[ 7.4567, -2.0045, -3.1763, -1.9805]])\n",
            "layer1.bias - Param: tensor([4.2850])\n",
            "layer1.weight - Gradient: tensor([[ 0.2510, -0.0142,  0.0477, -0.0716]])\n",
            "layer1.bias - Gradient: tensor([0.2000])\n",
            "Epoch: 70 | Train Loss: 1.8455 | Test Loss: 3.5913\n",
            "------------------------------------------------------------\n",
            "layer1.weight - Param: tensor([[ 7.2057, -1.9903, -3.2240, -1.9088]])\n",
            "layer1.bias - Param: tensor([4.0850])\n",
            "layer1.weight - Gradient: tensor([[ 0.2510, -0.0142,  0.0477, -0.0716]])\n",
            "layer1.bias - Gradient: tensor([0.2000])\n",
            "Epoch: 80 | Train Loss: 1.7349 | Test Loss: 3.1807\n",
            "------------------------------------------------------------\n",
            "layer1.weight - Param: tensor([[ 6.9655, -1.9725, -3.2517, -1.8253]])\n",
            "layer1.bias - Param: tensor([3.9050])\n",
            "layer1.weight - Gradient: tensor([[ 0.2240, -0.0233, -0.0023, -0.1013]])\n",
            "layer1.bias - Gradient: tensor([0.1500])\n",
            "Epoch: 90 | Train Loss: 1.6364 | Test Loss: 2.8280\n",
            "------------------------------------------------------------\n"
          ]
        }
      ]
    },
    {
      "cell_type": "code",
      "source": [
        "from pprint import pprint\n",
        "print(\"The model learned the following values for weights and bias:\")\n",
        "pprint(model_1.state_dict())"
      ],
      "metadata": {
        "colab": {
          "base_uri": "https://localhost:8080/"
        },
        "id": "kp5YV_U6kM-5",
        "outputId": "2a443ad7-915c-464b-e5c8-82f6ea46f0a7"
      },
      "execution_count": 10,
      "outputs": [
        {
          "output_type": "stream",
          "name": "stdout",
          "text": [
            "The model learned the following values for weights and bias:\n",
            "OrderedDict([('layer1.weight', tensor([[ 6.7607, -1.9372, -3.2215, -1.7043]])),\n",
            "             ('layer1.bias', tensor([3.7850]))])\n"
          ]
        }
      ]
    },
    {
      "cell_type": "code",
      "source": [
        "model.eval()\n",
        "\n",
        "with torch.inference_mode():\n",
        "    y_preds = model(X)\n",
        "\n",
        "y_preds[:10]"
      ],
      "metadata": {
        "colab": {
          "base_uri": "https://localhost:8080/"
        },
        "id": "1TZ-vkYEkM6O",
        "outputId": "620b8149-ebf1-46bb-9843-b80d693db934"
      },
      "execution_count": 11,
      "outputs": [
        {
          "output_type": "execute_result",
          "data": {
            "text/plain": [
              "tensor([[-0.8559],\n",
              "        [ 0.5770],\n",
              "        [-0.2250],\n",
              "        [-0.0284],\n",
              "        [ 1.2860],\n",
              "        [ 1.2321],\n",
              "        [ 2.5785],\n",
              "        [ 1.5258],\n",
              "        [ 1.2705],\n",
              "        [ 0.8805]])"
            ]
          },
          "metadata": {},
          "execution_count": 11
        }
      ]
    },
    {
      "cell_type": "code",
      "source": [
        "plot_predictions(predictions=y_preds.cpu())\n"
      ],
      "metadata": {
        "colab": {
          "base_uri": "https://localhost:8080/",
          "height": 602
        },
        "id": "rm9OmcrLQL4U",
        "outputId": "c6059a41-8716-4854-fbbb-b6ab5b1b75e3"
      },
      "execution_count": 12,
      "outputs": [
        {
          "output_type": "display_data",
          "data": {
            "text/plain": [
              "<Figure size 1000x700 with 1 Axes>"
            ],
            "image/png": "[encoded data removed]"
          },
          "metadata": {}
        }
      ]
    },
    {
      "cell_type": "code",
      "source": [
        "weights = model_1.state_dict()['layer1.weight'][0]\n",
        "bias = model_1.state_dict()['layer1.bias'][0]\n",
        "for i in range(10): #fix!\n",
        "  print(f\"Target: {y[i][0]:.2f} | Prediction: {y_preds[i][0]} == {X[i][0][0][0]:.2f} * {weights[0]:.2f} + {X[i][0][1][0]:.2f} * {weights[1]:.2f} + {X[i][1][0][0]:.2f} * {weights[2]:.2f} + {X[i][1][1][0]:.2f} * {weights[3]:.2f} + {bias:.2f}\")"
      ],
      "metadata": {
        "colab": {
          "base_uri": "https://localhost:8080/"
        },
        "id": "4qDTU7-7QHU6",
        "outputId": "9cb32762-52bb-46b7-ea6e-0c9925bf67ca"
      },
      "execution_count": 13,
      "outputs": [
        {
          "output_type": "stream",
          "name": "stdout",
          "text": [
            "Target: 2.00 | Prediction: -0.8558573722839355 == 0.00 * 6.76 + 0.92 * -1.94 + 0.38 * -3.22 + 0.96 * -1.70 + 3.78\n",
            "Target: 2.04 | Prediction: 0.5770263671875 == 0.02 * 6.76 + 0.60 * -1.94 + 0.26 * -3.22 + 0.79 * -1.70 + 3.78\n",
            "Target: 2.08 | Prediction: -0.2250375747680664 == 0.04 * 6.76 + 0.13 * -1.94 + 0.93 * -3.22 + 0.59 * -1.70 + 3.78\n",
            "Target: 2.12 | Prediction: -0.028397321701049805 == 0.06 * 6.76 + 0.57 * -1.94 + 0.74 * -3.22 + 0.43 * -1.70 + 3.78\n",
            "Target: 2.16 | Prediction: 1.2859561443328857 == 0.08 * 6.76 + 0.57 * -1.94 + 0.27 * -3.22 + 0.63 * -1.70 + 3.78\n",
            "Target: 2.20 | Prediction: 1.2321012020111084 == 0.10 * 6.76 + 0.44 * -1.94 + 0.30 * -3.22 + 0.83 * -1.70 + 3.78\n",
            "Target: 2.24 | Prediction: 2.5785303115844727 == 0.12 * 6.76 + 0.27 * -1.94 + 0.36 * -3.22 + 0.20 * -1.70 + 3.78\n",
            "Target: 2.28 | Prediction: 1.5258371829986572 == 0.14 * 6.76 + 0.01 * -1.94 + 0.95 * -3.22 + 0.08 * -1.70 + 3.78\n",
            "Target: 2.32 | Prediction: 1.2704687118530273 == 0.16 * 6.76 + 0.58 * -1.94 + 0.34 * -3.22 + 0.81 * -1.70 + 3.78\n",
            "Target: 2.36 | Prediction: 0.880516529083252 == 0.18 * 6.76 + 0.90 * -1.94 + 0.55 * -3.22 + 0.34 * -1.70 + 3.78\n"
          ]
        }
      ]
    }
  ]
}