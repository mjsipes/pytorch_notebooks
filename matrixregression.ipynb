{
  "nbformat": 4,
  "nbformat_minor": 0,
  "metadata": {
    "colab": {
      "provenance": [],
      "include_colab_link": true
    },
    "kernelspec": {
      "name": "python3",
      "display_name": "Python 3"
    },
    "language_info": {
      "name": "python"
    }
  },
  "cells": [
    {
      "cell_type": "markdown",
      "metadata": {
        "id": "view-in-github",
        "colab_type": "text"
      },
      "source": [
        "<a href=\"https://colab.research.google.com/github/mjsipes/pytorch_notebooks/blob/main/matrixregression.ipynb\" target=\"_parent\"><img src=\"https://colab.research.google.com/assets/colab-badge.svg\" alt=\"Open In Colab\"/></a>"
      ]
    },
    {
      "cell_type": "code",
      "execution_count": 13,
      "metadata": {
        "colab": {
          "base_uri": "https://localhost:8080/",
          "height": 35
        },
        "id": "9I1lvp5djr_5",
        "outputId": "b2ada7ec-e9af-457e-a347-0b5a6c116eeb"
      },
      "outputs": [
        {
          "output_type": "execute_result",
          "data": {
            "text/plain": [
              "'2.3.1+cu121'"
            ],
            "application/vnd.google.colaboratory.intrinsic+json": {
              "type": "string"
            }
          },
          "metadata": {},
          "execution_count": 13
        }
      ],
      "source": [
        "# Import PyTorch and matplotlib\n",
        "import torch\n",
        "from torch import nn # nn contains all of PyTorch's building blocks for neural networks\n",
        "import matplotlib.pyplot as plt\n",
        "\n",
        "# Check PyTorch version\n",
        "torch.__version__"
      ]
    },
    {
      "cell_type": "code",
      "source": [
        "device = \"cuda\" if torch.cuda.is_available() else \"cpu\"\n",
        "print(f\"Using device: {device}\")"
      ],
      "metadata": {
        "colab": {
          "base_uri": "https://localhost:8080/"
        },
        "id": "CRIsGgn8j6fD",
        "outputId": "e9fd6767-0a88-4228-f030-d11014473646"
      },
      "execution_count": 14,
      "outputs": [
        {
          "output_type": "stream",
          "name": "stdout",
          "text": [
            "Using device: cpu\n"
          ]
        }
      ]
    },
    {
      "cell_type": "code",
      "source": [
        "torch.manual_seed(42)\n",
        "\n",
        "weight = 3\n",
        "bias = 2\n",
        "\n",
        "start = 0\n",
        "end = 1\n",
        "step = 0.02\n",
        "\n",
        "x_1_1 = torch.arange(start, end, step).unsqueeze(dim=1)\n",
        "X = torch.arange(start, end, step)\n",
        "\n",
        "\n",
        "n_samples = X.size()[0]\n",
        "\n",
        "X = torch.zeros((n_samples, 2, 2))\n",
        "y = torch.zeros(n_samples)\n",
        "\n",
        "for i in range(n_samples):\n",
        "    X[i] = torch.rand((2, 2))\n",
        "    X[i][0][0] = x_1_1[i]\n",
        "    y[i] = X[i][0][0]*weight + bias\n",
        "\n",
        "X = X.unsqueeze(dim=-1)\n",
        "y = y.unsqueeze(dim=1)\n",
        "\n",
        "X.dtype, y.dtype, X.shape, y.shape, X.ndim, X[:2],y[:2]\n"
      ],
      "metadata": {
        "colab": {
          "base_uri": "https://localhost:8080/"
        },
        "id": "rI9fMQ7Lj6c9",
        "outputId": "2b169510-80f2-472e-c137-63e96b4fc183"
      },
      "execution_count": 15,
      "outputs": [
        {
          "output_type": "execute_result",
          "data": {
            "text/plain": [
              "(torch.float32,\n",
              " torch.float32,\n",
              " torch.Size([50, 2, 2, 1]),\n",
              " torch.Size([50, 1]),\n",
              " 4,\n",
              " tensor([[[[0.0000],\n",
              "           [0.9150]],\n",
              " \n",
              "          [[0.3829],\n",
              "           [0.9593]]],\n",
              " \n",
              " \n",
              "         [[[0.0200],\n",
              "           [0.6009]],\n",
              " \n",
              "          [[0.2566],\n",
              "           [0.7936]]]]),\n",
              " tensor([[2.0000],\n",
              "         [2.0600]]))"
            ]
          },
          "metadata": {},
          "execution_count": 15
        }
      ]
    },
    {
      "cell_type": "code",
      "source": [
        "train_split = int(0.8 * len(X))\n",
        "# X, y = shuffle(X, y, random_state=42)\n",
        "X_train, y_train = X[:train_split], y[:train_split]\n",
        "X_test, y_test = X[train_split:], y[train_split:]\n",
        "\n",
        "len(X_train), len(y_train), len(X_test), len(y_test)\n",
        "X_train.shape, y_train.shape, X_test.shape, y_test.shape"
      ],
      "metadata": {
        "colab": {
          "base_uri": "https://localhost:8080/"
        },
        "id": "CYGUBSrQj6a6",
        "outputId": "e59e8fc4-c8ac-40a8-eea6-3ad9d2d3def5"
      },
      "execution_count": 16,
      "outputs": [
        {
          "output_type": "execute_result",
          "data": {
            "text/plain": [
              "(torch.Size([40, 2, 2, 1]),\n",
              " torch.Size([40, 1]),\n",
              " torch.Size([10, 2, 2, 1]),\n",
              " torch.Size([10, 1]))"
            ]
          },
          "metadata": {},
          "execution_count": 16
        }
      ]
    },
    {
      "cell_type": "code",
      "source": [
        "def plot_predictions(train_data=X_train,\n",
        "                     train_labels=y_train,\n",
        "                     test_data=X_test,\n",
        "                     test_labels=y_test,\n",
        "                     predictions=None):\n",
        "\n",
        "  plt.figure(figsize=(10, 7))\n",
        "\n",
        "  train_data_00 = train_data[:, 0, 0]\n",
        "  train_data_01 = train_data[:, 0, 1]\n",
        "  train_data_10 = train_data[:, 1, 0]\n",
        "  train_data_11 = train_data[:, 1, 1]\n",
        "  plt.scatter(train_data_00, train_labels, c=\"b\", s=4, label=\"Training data\")\n",
        "  plt.scatter(train_data_01, train_labels, c='0.8', s=4)\n",
        "  plt.scatter(train_data_10, train_labels, c='0.8', s=4)\n",
        "  plt.scatter(train_data_11, train_labels, c='0.8', s=4, label=\"Training data\")\n",
        "\n",
        "  test_data_00 = test_data[:, 0, 0]\n",
        "  test_data_01 = test_data[:, 0, 1]\n",
        "  test_data_10 = test_data[:, 1, 0]\n",
        "  test_data_11 = test_data[:, 1, 1]\n",
        "  plt.scatter(test_data_00, test_labels, c=\"g\", s=4, label=\"Testing data\")\n",
        "  plt.scatter(test_data_01, test_labels, c='0.8', s=4)\n",
        "  plt.scatter(test_data_10, test_labels, c='0.8', s=4)\n",
        "  plt.scatter(test_data_11, test_labels, c='0.8', s=4, label=\"Testing data\")\n",
        "\n",
        "  if predictions is not None:\n",
        "    train_data_00 = train_data[:, 0, 0].squeeze(-1)\n",
        "    test_data_00 = test_data[:, 0, 0].squeeze(-1)\n",
        "    combined_data_00 = torch.cat((train_data_00, test_data_00), dim=0)\n",
        "    plt.scatter(test_data_00, predictions, c=\"r\", s=4, label=\"Predictions\")\n",
        "\n",
        "  plt.legend(prop={\"size\": 14});"
      ],
      "metadata": {
        "id": "YOiF1JT_jkPN"
      },
      "execution_count": 17,
      "outputs": []
    },
    {
      "cell_type": "code",
      "source": [
        "plot_predictions(X_train, y_train, X_test, y_test)"
      ],
      "metadata": {
        "colab": {
          "base_uri": "https://localhost:8080/",
          "height": 599
        },
        "id": "hQJ722mUk02U",
        "outputId": "d24da627-12ae-4024-98d5-8da94ef19f17"
      },
      "execution_count": 18,
      "outputs": [
        {
          "output_type": "display_data",
          "data": {
            "text/plain": [
              "<Figure size 1000x700 with 1 Axes>"
            ],
            "image/png": "[encoded data removed]"
          },
          "metadata": {}
        }
      ]
    },
    {
      "cell_type": "code",
      "source": [
        "class MatrixSolver0(nn.Module):\n",
        "    def __init__(self):\n",
        "        super().__init__()\n",
        "        self.weight0 = nn.Parameter(torch.randn(1,dtype=torch.float),requires_grad=True)\n",
        "        self.weight1 = nn.Parameter(torch.randn(1,dtype=torch.float),requires_grad=True)\n",
        "        self.weight2 = nn.Parameter(torch.randn(1,dtype=torch.float),requires_grad=True)\n",
        "        self.weight3 = nn.Parameter(torch.randn(1,dtype=torch.float),requires_grad=True)\n",
        "        self.bias = nn.Parameter(torch.randn(1,dtype=torch.float),requires_grad=True)\n",
        "\n",
        "    def forward(self, x: torch.Tensor) -> torch.Tensor:\n",
        "        return self.weight0 * x[:, 0, 0] + self.weight1 * x[:, 0, 1] + self.weight2 * x[:, 1, 0] + self.weight3 * x[:, 1, 1] + self.bias\n",
        "\n",
        "\n",
        "torch.manual_seed(42)\n",
        "model_0 = MatrixSolver0()\n",
        "\n",
        "with torch.no_grad():\n",
        "  model_0.weight0[0] = 10\n",
        "  model_0.weight1[0] = 0\n",
        "  model_0.weight2[0] = 0\n",
        "  model_0.weight3[0] = 0\n",
        "  model_0.bias[0] = 10\n",
        "\n",
        "\n",
        "model_0, model_0.state_dict()"
      ],
      "metadata": {
        "colab": {
          "base_uri": "https://localhost:8080/"
        },
        "id": "IM2a0miUJXpN",
        "outputId": "c9799183-fa78-4120-f3d8-5244272291b3"
      },
      "execution_count": 19,
      "outputs": [
        {
          "output_type": "execute_result",
          "data": {
            "text/plain": [
              "(MatrixSolver0(),\n",
              " OrderedDict([('weight0', tensor([10.])),\n",
              "              ('weight1', tensor([0.])),\n",
              "              ('weight2', tensor([0.])),\n",
              "              ('weight3', tensor([0.])),\n",
              "              ('bias', tensor([10.]))]))"
            ]
          },
          "metadata": {},
          "execution_count": 19
        }
      ]
    },
    {
      "cell_type": "code",
      "source": [
        "import torch\n",
        "import torch.nn as nn\n",
        "\n",
        "class MatrixSolver(nn.Module):\n",
        "    def __init__(self):\n",
        "        super(MatrixSolver, self).__init__()\n",
        "        self.flatten = nn.Flatten()\n",
        "        self.layer1 = nn.Linear(in_features=4, out_features=1)\n",
        "\n",
        "    def forward(self, x):\n",
        "        x = self.flatten(x)\n",
        "        x = self.layer1(x)\n",
        "        return x\n",
        "\n",
        "torch.manual_seed(42)\n",
        "model_1 = MatrixSolver()\n",
        "\n",
        "with torch.no_grad():\n",
        "    model_1.layer1.weight[:,:] = 0\n",
        "    model_1.layer1.weight[:,0] = 10\n",
        "    model_1.layer1.bias[0] = 10\n",
        "\n",
        "model_1, model_1.state_dict()\n"
      ],
      "metadata": {
        "id": "grIGDw9Nr4Sl",
        "colab": {
          "base_uri": "https://localhost:8080/"
        },
        "outputId": "b758a057-8df1-4053-9d70-173e4c289e7d"
      },
      "execution_count": 20,
      "outputs": [
        {
          "output_type": "execute_result",
          "data": {
            "text/plain": [
              "(MatrixSolver(\n",
              "   (flatten): Flatten(start_dim=1, end_dim=-1)\n",
              "   (layer1): Linear(in_features=4, out_features=1, bias=True)\n",
              " ),\n",
              " OrderedDict([('layer1.weight', tensor([[10.,  0.,  0.,  0.]])),\n",
              "              ('layer1.bias', tensor([10.]))]))"
            ]
          },
          "metadata": {},
          "execution_count": 20
        }
      ]
    },
    {
      "cell_type": "code",
      "source": [
        "import torch\n",
        "torch.manual_seed(42)\n",
        "\n",
        "model = model_1\n",
        "epochs = 200\n",
        "debug = True\n",
        "PRINT10 = epochs/10\n",
        "\n",
        "model.to(device)\n",
        "loss_fn = nn.L1Loss()\n",
        "optimizer = torch.optim.SGD(params=model.parameters(), lr=0.1)\n",
        "\n",
        "X_train = X_train.to(device)\n",
        "X_test = X_test.to(device)\n",
        "y_train = y_train.to(device)\n",
        "y_test = y_test.to(device)\n",
        "\n",
        "for epoch in range(epochs):\n",
        "    model.train()\n",
        "    y_pred = model(X_train)\n",
        "    loss = loss_fn(y_pred, y_train)\n",
        "    optimizer.zero_grad()\n",
        "    loss.backward()\n",
        "\n",
        "    if epoch % PRINT10 == 0:\n",
        "        if debug:\n",
        "            for name, param in model.named_parameters():\n",
        "                print(f'{name} - Param: {param.data}')\n",
        "            for name, param in model.named_parameters():\n",
        "                print(f'{name} - Gradient: {param.grad}')\n",
        "\n",
        "    optimizer.step()\n",
        "\n",
        "    model.eval()\n",
        "    with torch.inference_mode():\n",
        "        test_pred = model(X_test)\n",
        "        test_loss = loss_fn(test_pred, y_test)\n",
        "\n",
        "    if epoch % PRINT10 == 0:\n",
        "        if debug:\n",
        "            print(f'Epoch: {epoch} | Train Loss: {loss.item():.4f} | Test Loss: {test_loss.item():.4f}')\n",
        "            print('-' * 60)\n",
        "\n"
      ],
      "metadata": {
        "colab": {
          "base_uri": "https://localhost:8080/"
        },
        "id": "Jc9A-QNCkNKF",
        "outputId": "b617fa7c-6efd-4a5a-81eb-76a533cd28d2"
      },
      "execution_count": 21,
      "outputs": [
        {
          "output_type": "stream",
          "name": "stdout",
          "text": [
            "layer1.weight - Param: tensor([[10.,  0.,  0.,  0.]])\n",
            "layer1.bias - Param: tensor([10.])\n",
            "layer1.weight - Gradient: tensor([[0.3900, 0.3894, 0.5627, 0.4101]])\n",
            "layer1.bias - Gradient: tensor([1.])\n",
            "Epoch: 0 | Train Loss: 10.7300 | Test Loss: 14.0288\n",
            "------------------------------------------------------------\n",
            "layer1.weight - Param: tensor([[ 9.2200, -0.7789, -1.1254, -0.8203]])\n",
            "layer1.bias - Param: tensor([8.0000])\n",
            "layer1.weight - Gradient: tensor([[0.3900, 0.3894, 0.5627, 0.4101]])\n",
            "layer1.bias - Gradient: tensor([1.])\n",
            "Epoch: 20 | Train Loss: 7.1528 | Test Loss: 10.0049\n",
            "------------------------------------------------------------\n",
            "layer1.weight - Param: tensor([[ 8.4400, -1.5578, -2.2508, -1.6405]])\n",
            "layer1.bias - Param: tensor([6.0000])\n",
            "layer1.weight - Gradient: tensor([[0.3900, 0.3894, 0.5627, 0.4101]])\n",
            "layer1.bias - Gradient: tensor([1.])\n",
            "Epoch: 40 | Train Loss: 3.5756 | Test Loss: 5.9810\n",
            "------------------------------------------------------------\n",
            "layer1.weight - Param: tensor([[ 7.7459, -1.9631, -3.0019, -2.0006]])\n",
            "layer1.bias - Param: tensor([4.6350])\n",
            "layer1.weight - Gradient: tensor([[ 0.2880,  0.0305,  0.1856, -0.0504]])\n",
            "layer1.bias - Gradient: tensor([0.3500])\n",
            "Epoch: 60 | Train Loss: 1.7731 | Test Loss: 3.3824\n",
            "------------------------------------------------------------\n",
            "layer1.weight - Param: tensor([[ 7.2411, -1.9436, -3.1332, -1.8535]])\n",
            "layer1.bias - Param: tensor([4.1950])\n",
            "layer1.weight - Gradient: tensor([[ 0.2240, -0.0233, -0.0023, -0.1013]])\n",
            "layer1.bias - Gradient: tensor([0.1500])\n",
            "Epoch: 80 | Train Loss: 1.5196 | Test Loss: 2.5375\n",
            "------------------------------------------------------------\n",
            "layer1.weight - Param: tensor([[ 6.8755, -1.8408, -3.0175, -1.5614]])\n",
            "layer1.bias - Param: tensor([4.0200])\n",
            "layer1.weight - Gradient: tensor([[ 0.1560, -0.0735, -0.0867, -0.1793]])\n",
            "layer1.bias - Gradient: tensor([0.0500])\n",
            "Epoch: 100 | Train Loss: 1.3826 | Test Loss: 2.2949\n",
            "------------------------------------------------------------\n",
            "layer1.weight - Param: tensor([[ 6.5167, -1.7330, -2.8933, -1.2615]])\n",
            "layer1.bias - Param: tensor([3.8550])\n",
            "layer1.weight - Gradient: tensor([[ 0.1920, -0.0433, -0.0488, -0.1341]])\n",
            "layer1.bias - Gradient: tensor([0.1000])\n",
            "Epoch: 120 | Train Loss: 1.2462 | Test Loss: 2.0388\n",
            "------------------------------------------------------------\n",
            "layer1.weight - Param: tensor([[ 6.1581, -1.6179, -2.7654, -0.9658]])\n",
            "layer1.bias - Param: tensor([3.7000])\n",
            "layer1.weight - Gradient: tensor([[ 0.1700, -0.0759, -0.0791, -0.1528]])\n",
            "layer1.bias - Gradient: tensor([0.0500])\n",
            "Epoch: 140 | Train Loss: 1.1110 | Test Loss: 1.8219\n",
            "------------------------------------------------------------\n",
            "layer1.weight - Param: tensor([[ 5.8049, -1.4856, -2.6254, -0.6715]])\n",
            "layer1.bias - Param: tensor([3.5700])\n",
            "layer1.weight - Gradient: tensor([[ 0.1700, -0.0759, -0.0791, -0.1528]])\n",
            "layer1.bias - Gradient: tensor([0.0500])\n",
            "Epoch: 160 | Train Loss: 0.9784 | Test Loss: 1.6391\n",
            "------------------------------------------------------------\n",
            "layer1.weight - Param: tensor([[ 5.4616, -1.3556, -2.4674, -0.3972]])\n",
            "layer1.bias - Param: tensor([3.4450])\n",
            "layer1.weight - Gradient: tensor([[ 0.1760, -0.0403, -0.0733, -0.0981]])\n",
            "layer1.bias - Gradient: tensor([0.1000])\n",
            "Epoch: 180 | Train Loss: 0.8522 | Test Loss: 1.4598\n",
            "------------------------------------------------------------\n"
          ]
        }
      ]
    },
    {
      "cell_type": "code",
      "source": [
        "from pprint import pprint\n",
        "print(\"The model learned the following values for weights and bias:\")\n",
        "pprint(model_1.state_dict())"
      ],
      "metadata": {
        "colab": {
          "base_uri": "https://localhost:8080/"
        },
        "id": "kp5YV_U6kM-5",
        "outputId": "4a163afb-bccb-43e2-a2fc-c35e964a052d"
      },
      "execution_count": 22,
      "outputs": [
        {
          "output_type": "stream",
          "name": "stdout",
          "text": [
            "The model learned the following values for weights and bias:\n",
            "OrderedDict([('layer1.weight', tensor([[ 5.1412, -1.2486, -2.2844, -0.1994]])),\n",
            "             ('layer1.bias', tensor([3.2800]))])\n"
          ]
        }
      ]
    },
    {
      "cell_type": "code",
      "source": [
        "model.eval()\n",
        "\n",
        "with torch.inference_mode():\n",
        "    y_preds = model(X_test)\n",
        "\n",
        "y_preds[:10]"
      ],
      "metadata": {
        "colab": {
          "base_uri": "https://localhost:8080/"
        },
        "id": "1TZ-vkYEkM6O",
        "outputId": "a46ce08c-41c5-483d-cd8c-ae716f205f1a"
      },
      "execution_count": 23,
      "outputs": [
        {
          "output_type": "execute_result",
          "data": {
            "text/plain": [
              "tensor([[5.3305],\n",
              "        [6.1609],\n",
              "        [6.6607],\n",
              "        [6.6806],\n",
              "        [4.9252],\n",
              "        [5.5468],\n",
              "        [5.4061],\n",
              "        [6.4112],\n",
              "        [5.9483],\n",
              "        [6.1869]])"
            ]
          },
          "metadata": {},
          "execution_count": 23
        }
      ]
    },
    {
      "cell_type": "code",
      "source": [
        "plot_predictions(predictions=y_preds.cpu())\n"
      ],
      "metadata": {
        "colab": {
          "base_uri": "https://localhost:8080/",
          "height": 599
        },
        "id": "rm9OmcrLQL4U",
        "outputId": "a038fb57-069d-4517-d88a-b43c92e4abd7"
      },
      "execution_count": 24,
      "outputs": [
        {
          "output_type": "display_data",
          "data": {
            "text/plain": [
              "<Figure size 1000x700 with 1 Axes>"
            ],
            "image/png": "[encoded data removed]"
          },
          "metadata": {}
        }
      ]
    },
    {
      "cell_type": "code",
      "source": [
        "weights = model_1.state_dict()['layer1.weight'][0]\n",
        "bias = model_1.state_dict()['layer1.bias'][0]\n",
        "for i in range(10): #fix!\n",
        "  print(f\"Target: {y[i][0]:.2f} | Prediction: {y_preds[i][0]} == {X[i][0][0][0]:.2f} * {weights[0]:.2f} + {X[i][0][1][0]:.2f} * {weights[1]:.2f} + {X[i][1][0][0]:.2f} * {weights[2]:.2f} + {X[i][1][1][0]:.2f} * {weights[3]:.2f} + {bias:.2f}\")"
      ],
      "metadata": {
        "colab": {
          "base_uri": "https://localhost:8080/"
        },
        "id": "4qDTU7-7QHU6",
        "outputId": "2b4eb9f1-4613-418a-d2e4-30f83042e1d7"
      },
      "execution_count": 25,
      "outputs": [
        {
          "output_type": "stream",
          "name": "stdout",
          "text": [
            "Target: 2.00 | Prediction: 5.330511093139648 == 0.00 * 5.14 + 0.92 * -1.25 + 0.38 * -2.28 + 0.96 * -0.20 + 3.28\n",
            "Target: 2.06 | Prediction: 6.160901069641113 == 0.02 * 5.14 + 0.60 * -1.25 + 0.26 * -2.28 + 0.79 * -0.20 + 3.28\n",
            "Target: 2.12 | Prediction: 6.660702705383301 == 0.04 * 5.14 + 0.13 * -1.25 + 0.93 * -2.28 + 0.59 * -0.20 + 3.28\n",
            "Target: 2.18 | Prediction: 6.680631637573242 == 0.06 * 5.14 + 0.57 * -1.25 + 0.74 * -2.28 + 0.43 * -0.20 + 3.28\n",
            "Target: 2.24 | Prediction: 4.925170421600342 == 0.08 * 5.14 + 0.57 * -1.25 + 0.27 * -2.28 + 0.63 * -0.20 + 3.28\n",
            "Target: 2.30 | Prediction: 5.546788215637207 == 0.10 * 5.14 + 0.44 * -1.25 + 0.30 * -2.28 + 0.83 * -0.20 + 3.28\n",
            "Target: 2.36 | Prediction: 5.406069755554199 == 0.12 * 5.14 + 0.27 * -1.25 + 0.36 * -2.28 + 0.20 * -0.20 + 3.28\n",
            "Target: 2.42 | Prediction: 6.411246299743652 == 0.14 * 5.14 + 0.01 * -1.25 + 0.95 * -2.28 + 0.08 * -0.20 + 3.28\n",
            "Target: 2.48 | Prediction: 5.948265075683594 == 0.16 * 5.14 + 0.58 * -1.25 + 0.34 * -2.28 + 0.81 * -0.20 + 3.28\n",
            "Target: 2.54 | Prediction: 6.186931610107422 == 0.18 * 5.14 + 0.90 * -1.25 + 0.55 * -2.28 + 0.34 * -0.20 + 3.28\n"
          ]
        }
      ]
    }
  ]
}